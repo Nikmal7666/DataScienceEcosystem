{
 "cells": [
  {
   "cell_type": "markdown",
   "id": "510a26ee",
   "metadata": {},
   "source": [
    "# Data science Tools and Ecosystem"
   ]
  },
  {
   "cell_type": "markdown",
   "id": "2cc6d721",
   "metadata": {},
   "source": [
    "In this nootbook, Data science Tools and Ecosystem are summarized"
   ]
  },
  {
   "cell_type": "markdown",
   "id": "e0b2c87a",
   "metadata": {},
   "source": [
    "Some of the popular language that Data Scientists use are"
   ]
  },
  {
   "cell_type": "markdown",
   "id": "d3e284db",
   "metadata": {},
   "source": [
    "    1. Python\n",
    "    2. R\n",
    "    3. SQL\n",
    "    4. C++\n",
    "    5. Java etc..;"
   ]
  },
  {
   "cell_type": "markdown",
   "id": "ea2035ed",
   "metadata": {},
   "source": [
    "Some of the commonly used libraries used by Data Scientists include.\n",
    "\n"
   ]
  },
  {
   "cell_type": "markdown",
   "id": "1236eb31",
   "metadata": {},
   "source": [
    "    1. TensorFlow\n",
    "    2. Numpy\n",
    "    3. Scipy\n",
    "    4. Pandas \n",
    "    5. Matplotlib\n",
    "    6. Keras\n",
    "    7. SciKit-learn\n",
    "    8. PyTorch etc..;"
   ]
  },
  {
   "cell_type": "markdown",
   "id": "d8b3d622",
   "metadata": {},
   "source": [
    "|Data Science Tools|\n",
    "|---|\n",
    "|SAS|\n",
    "|Apache Hadoop|\n",
    "|TensorFlow|"
   ]
  },
  {
   "cell_type": "markdown",
   "id": "7912d2dc",
   "metadata": {},
   "source": [
    "## Below are a few example of evaluating airthmetic expressions in Python."
   ]
  },
  {
   "cell_type": "code",
   "execution_count": 3,
   "id": "113d3f58",
   "metadata": {},
   "outputs": [
    {
     "data": {
      "text/plain": [
       "24"
      ]
     },
     "execution_count": 3,
     "metadata": {},
     "output_type": "execute_result"
    }
   ],
   "source": [
    "#This is a common airthmetic example to multply and then add integers\n",
    "(4*5)+4"
   ]
  },
  {
   "cell_type": "code",
   "execution_count": 4,
   "id": "4613f70f",
   "metadata": {},
   "outputs": [
    {
     "data": {
      "text/plain": [
       "3.3333333333333335"
      ]
     },
     "execution_count": 4,
     "metadata": {},
     "output_type": "execute_result"
    }
   ],
   "source": [
    "#This will convert 200 minutes to hours by dividing by 60\n",
    "200/60"
   ]
  },
  {
   "cell_type": "markdown",
   "id": "0336aa84",
   "metadata": {},
   "source": [
    "__Objective__\n",
    "* List popular language for Data Science\n",
    "* List popular libraries for Data Science\n",
    "* List of the well know Data Science Tools\n",
    "* How to provied comments in the cell "
   ]
  },
  {
   "cell_type": "markdown",
   "id": "0b681b8f",
   "metadata": {},
   "source": [
    "## Author"
   ]
  },
  {
   "cell_type": "markdown",
   "id": "e63258a7",
   "metadata": {},
   "source": [
    "Kamal Singh Charan"
   ]
  }
 ],
 "metadata": {
  "kernelspec": {
   "display_name": "Python 3 (ipykernel)",
   "language": "python",
   "name": "python3"
  },
  "language_info": {
   "codemirror_mode": {
    "name": "ipython",
    "version": 3
   },
   "file_extension": ".py",
   "mimetype": "text/x-python",
   "name": "python",
   "nbconvert_exporter": "python",
   "pygments_lexer": "ipython3",
   "version": "3.11.4"
  }
 },
 "nbformat": 4,
 "nbformat_minor": 5
}
